{
 "cells": [
  {
   "cell_type": "code",
   "execution_count": 41,
   "metadata": {},
   "outputs": [],
   "source": [
    "import pandas as pd\n",
    "import numpy as np\n",
    "import matplotlib.pyplot as plt\n",
    "import seaborn as sns\n",
    "import warnings\n",
    "warnings.filterwarnings('ignore')\n"
   ]
  },
  {
   "cell_type": "code",
   "execution_count": 42,
   "metadata": {},
   "outputs": [],
   "source": [
    "train  = pd.read_csv('train.csv')\n",
    "test = pd.read_csv('test.csv')\n",
    "dev = pd.read_csv('dev.csv')\n"
   ]
  },
  {
   "cell_type": "code",
   "execution_count": 43,
   "metadata": {},
   "outputs": [],
   "source": [
    "def process_paragraphs(train):\n",
    "    # Extract paragraph ID from the index column\n",
    "    train['paragraph_id'] = train['index'].apply(lambda x: x.split('_')[0])\n",
    "\n",
    "    # Combine sentences into paragraphs\n",
    "    train_paragraphs = train.groupby('paragraph_id')['sentence'].apply(' '.join).reset_index()\n",
    "\n",
    "    # Extract unique atomic labels\n",
    "    all_labels = train['labels'].dropna().str.split(',').explode().str.strip().unique()\n",
    "\n",
    "    # Create a new dataframe with paragraph_id as the index\n",
    "    label_columns = all_labels\n",
    "    paragraph_labels = pd.DataFrame(0, index=train_paragraphs['paragraph_id'], columns=label_columns)\n",
    "\n",
    "    # Fill in the label columns\n",
    "    for _, row in train.dropna(subset=['labels']).iterrows():\n",
    "        paragraph_id = row['paragraph_id']\n",
    "        labels = row['labels'].split(',')\n",
    "        for label in labels:\n",
    "            label = label.strip()\n",
    "            if label in paragraph_labels.columns:\n",
    "                paragraph_labels.at[paragraph_id, label] = 1\n",
    "\n",
    "    # Reset index to make paragraph_id a column\n",
    "    paragraph_labels.reset_index(inplace=True)\n",
    "\n",
    "    # Merge with train_paragraphs\n",
    "    train_paragraphs = train_paragraphs.merge(paragraph_labels, on=\"paragraph_id\")\n",
    "\n",
    "    return train_paragraphs"
   ]
  },
  {
   "cell_type": "code",
   "execution_count": 44,
   "metadata": {},
   "outputs": [
    {
     "name": "stdout",
     "output_type": "stream",
     "text": [
      "1108\n",
      "315\n",
      "157\n"
     ]
    }
   ],
   "source": [
    "train = process_paragraphs(train)\n",
    "test = process_paragraphs(test)\n",
    "dev = process_paragraphs(dev)\n",
    "# print data shape[0]\n",
    "print(train.shape[0])\n",
    "print(test.shape[0])\n",
    "print(dev.shape[0])"
   ]
  },
  {
   "cell_type": "code",
   "execution_count": 45,
   "metadata": {},
   "outputs": [],
   "source": [
    "def data_reconstruction(df):\n",
    "    label_counts = df.iloc[:, 2:].sum().sort_values(ascending=False)\n",
    "    label_name = label_counts.index[0]\n",
    "    # change the data by creating a \"label\" column\n",
    "    # for this column, judege whether the paragraph support the label_name or not by checking the value of the label_name column\n",
    "    df['label'] = df[label_name].apply(lambda x: 1 if x > 0 else 0)\n",
    "    # reconstruct the data into three columns: doc, claim, label\n",
    "    # doc is just the paragraph, claim is a clumn with all values equal to the variable label_name, and label is the label column\n",
    "    df = df[['sentence', label_name, 'label']]\n",
    "    df = df.rename(columns={label_name: 'claim'})\n",
    "    df['claim'] = label_name\n",
    "    df = df.rename(columns={'sentence': 'doc'})\n",
    "    return df\n"
   ]
  },
  {
   "cell_type": "code",
   "execution_count": 46,
   "metadata": {},
   "outputs": [],
   "source": [
    "train = data_reconstruction(train)\n",
    "test = data_reconstruction(test)\n",
    "dev = data_reconstruction(dev)"
   ]
  },
  {
   "cell_type": "code",
   "execution_count": 47,
   "metadata": {},
   "outputs": [],
   "source": [
    "# store three data to \"reconstructon\" folder\n",
    "train.to_csv('reconstruction/train.csv', index=False)\n",
    "test.to_csv('reconstruction/test.csv', index=False)\n",
    "dev.to_csv('reconstruction/dev.csv', index=False)"
   ]
  },
  {
   "cell_type": "code",
   "execution_count": 3,
   "metadata": {},
   "outputs": [
    {
     "data": {
      "text/html": [
       "<div>\n",
       "<style scoped>\n",
       "    .dataframe tbody tr th:only-of-type {\n",
       "        vertical-align: middle;\n",
       "    }\n",
       "\n",
       "    .dataframe tbody tr th {\n",
       "        vertical-align: top;\n",
       "    }\n",
       "\n",
       "    .dataframe thead th {\n",
       "        text-align: right;\n",
       "    }\n",
       "</style>\n",
       "<table border=\"1\" class=\"dataframe\">\n",
       "  <thead>\n",
       "    <tr style=\"text-align: right;\">\n",
       "      <th></th>\n",
       "      <th>doc</th>\n",
       "      <th>claim</th>\n",
       "      <th>label</th>\n",
       "    </tr>\n",
       "  </thead>\n",
       "  <tbody>\n",
       "    <tr>\n",
       "      <th>0</th>\n",
       "      <td>Ghrelin was identified in the stomach as an en...</td>\n",
       "      <td>sustaining proliferative signaling</td>\n",
       "      <td>1</td>\n",
       "    </tr>\n",
       "    <tr>\n",
       "      <th>1</th>\n",
       "      <td>PURPOSE The epidermal growth factor receptor (...</td>\n",
       "      <td>sustaining proliferative signaling</td>\n",
       "      <td>1</td>\n",
       "    </tr>\n",
       "    <tr>\n",
       "      <th>2</th>\n",
       "      <td>Adoptive transfer of immunity against hepatiti...</td>\n",
       "      <td>sustaining proliferative signaling</td>\n",
       "      <td>0</td>\n",
       "    </tr>\n",
       "    <tr>\n",
       "      <th>3</th>\n",
       "      <td>The secretion of immunosuppressive factors lik...</td>\n",
       "      <td>sustaining proliferative signaling</td>\n",
       "      <td>1</td>\n",
       "    </tr>\n",
       "    <tr>\n",
       "      <th>4</th>\n",
       "      <td>To characterize the impact of increased produc...</td>\n",
       "      <td>sustaining proliferative signaling</td>\n",
       "      <td>1</td>\n",
       "    </tr>\n",
       "    <tr>\n",
       "      <th>...</th>\n",
       "      <td>...</td>\n",
       "      <td>...</td>\n",
       "      <td>...</td>\n",
       "    </tr>\n",
       "    <tr>\n",
       "      <th>1103</th>\n",
       "      <td>Tumour cells primarily utilize aerobic glycoly...</td>\n",
       "      <td>sustaining proliferative signaling</td>\n",
       "      <td>0</td>\n",
       "    </tr>\n",
       "    <tr>\n",
       "      <th>1104</th>\n",
       "      <td>Our previous study demonstrated that 5-aminole...</td>\n",
       "      <td>sustaining proliferative signaling</td>\n",
       "      <td>0</td>\n",
       "    </tr>\n",
       "    <tr>\n",
       "      <th>1105</th>\n",
       "      <td>Ceramide is a sphingolipid metabolite that ind...</td>\n",
       "      <td>sustaining proliferative signaling</td>\n",
       "      <td>0</td>\n",
       "    </tr>\n",
       "    <tr>\n",
       "      <th>1106</th>\n",
       "      <td>High-throughput screening of a small-molecule ...</td>\n",
       "      <td>sustaining proliferative signaling</td>\n",
       "      <td>0</td>\n",
       "    </tr>\n",
       "    <tr>\n",
       "      <th>1107</th>\n",
       "      <td>Aberrant glucose metabolism characterized by h...</td>\n",
       "      <td>sustaining proliferative signaling</td>\n",
       "      <td>0</td>\n",
       "    </tr>\n",
       "  </tbody>\n",
       "</table>\n",
       "<p>1108 rows × 3 columns</p>\n",
       "</div>"
      ],
      "text/plain": [
       "                                                    doc  \\\n",
       "0     Ghrelin was identified in the stomach as an en...   \n",
       "1     PURPOSE The epidermal growth factor receptor (...   \n",
       "2     Adoptive transfer of immunity against hepatiti...   \n",
       "3     The secretion of immunosuppressive factors lik...   \n",
       "4     To characterize the impact of increased produc...   \n",
       "...                                                 ...   \n",
       "1103  Tumour cells primarily utilize aerobic glycoly...   \n",
       "1104  Our previous study demonstrated that 5-aminole...   \n",
       "1105  Ceramide is a sphingolipid metabolite that ind...   \n",
       "1106  High-throughput screening of a small-molecule ...   \n",
       "1107  Aberrant glucose metabolism characterized by h...   \n",
       "\n",
       "                                   claim  label  \n",
       "0     sustaining proliferative signaling      1  \n",
       "1     sustaining proliferative signaling      1  \n",
       "2     sustaining proliferative signaling      0  \n",
       "3     sustaining proliferative signaling      1  \n",
       "4     sustaining proliferative signaling      1  \n",
       "...                                  ...    ...  \n",
       "1103  sustaining proliferative signaling      0  \n",
       "1104  sustaining proliferative signaling      0  \n",
       "1105  sustaining proliferative signaling      0  \n",
       "1106  sustaining proliferative signaling      0  \n",
       "1107  sustaining proliferative signaling      0  \n",
       "\n",
       "[1108 rows x 3 columns]"
      ]
     },
     "execution_count": 3,
     "metadata": {},
     "output_type": "execute_result"
    }
   ],
   "source": [
    "import pandas as pd\n",
    "train = pd.read_csv('reconstruction/train.csv')\n",
    "train"
   ]
  }
 ],
 "metadata": {
  "kernelspec": {
   "display_name": "Python 3",
   "language": "python",
   "name": "python3"
  },
  "language_info": {
   "codemirror_mode": {
    "name": "ipython",
    "version": 3
   },
   "file_extension": ".py",
   "mimetype": "text/x-python",
   "name": "python",
   "nbconvert_exporter": "python",
   "pygments_lexer": "ipython3",
   "version": "3.11.5"
  }
 },
 "nbformat": 4,
 "nbformat_minor": 2
}
